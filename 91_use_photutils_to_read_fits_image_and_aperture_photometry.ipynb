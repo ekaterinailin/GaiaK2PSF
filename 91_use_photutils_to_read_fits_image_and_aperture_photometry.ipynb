{
 "cells": [
  {
   "cell_type": "code",
   "execution_count": 1,
   "metadata": {},
   "outputs": [],
   "source": [
    "from astropy.io import fits\n",
    "import numpy as np"
   ]
  },
  {
   "cell_type": "code",
   "execution_count": 2,
   "metadata": {},
   "outputs": [],
   "source": [
    "hdu = fits.open('ktwo200008664-c05_0000.fits')"
   ]
  },
  {
   "cell_type": "code",
   "execution_count": 3,
   "metadata": {},
   "outputs": [],
   "source": [
    "image = hdu[1].data['FLUX']"
   ]
  },
  {
   "cell_type": "code",
   "execution_count": 4,
   "metadata": {},
   "outputs": [],
   "source": [
    "image = image.reshape((50,50))\n",
    "image -= np.median(image)"
   ]
  },
  {
   "cell_type": "code",
   "execution_count": 5,
   "metadata": {},
   "outputs": [
    {
     "data": {
      "text/plain": [
       "(50, 50)"
      ]
     },
     "execution_count": 5,
     "metadata": {},
     "output_type": "execute_result"
    }
   ],
   "source": [
    "image.shape"
   ]
  },
  {
   "cell_type": "code",
   "execution_count": 6,
   "metadata": {},
   "outputs": [],
   "source": [
    "import matplotlib.pyplot as plt"
   ]
  },
  {
   "cell_type": "code",
   "execution_count": 7,
   "metadata": {},
   "outputs": [
    {
     "data": {
      "text/plain": [
       "<matplotlib.image.AxesImage at 0x7fe66097cb00>"
      ]
     },
     "execution_count": 7,
     "metadata": {},
     "output_type": "execute_result"
    },
    {
     "data": {
      "image/png": "[encoded data removed]",
      "text/plain": [
       "<Figure size 720x720 with 1 Axes>"
      ]
     },
     "metadata": {},
     "output_type": "display_data"
    }
   ],
   "source": [
    "plt.figure(figsize=(10,10))\n",
    "plt.imshow(image)"
   ]
  },
  {
   "cell_type": "code",
   "execution_count": 8,
   "metadata": {},
   "outputs": [],
   "source": [
    "from photutils import DAOStarFinder"
   ]
  },
  {
   "cell_type": "code",
   "execution_count": 9,
   "metadata": {},
   "outputs": [],
   "source": [
    "from astropy.stats import mad_std\n",
    "bkg_sigma = mad_std(image) "
   ]
  },
  {
   "cell_type": "markdown",
   "metadata": {},
   "source": [
    "#### Use [DAOStarFInder](https://photutils.readthedocs.io/en/stable/api/photutils.detection.DAOStarFinder.html#photutils.detection.DAOStarFinder) to find targets:"
   ]
  },
  {
   "cell_type": "code",
   "execution_count": 60,
   "metadata": {},
   "outputs": [],
   "source": [
    "daofind = DAOStarFinder(fwhm=5., threshold=3.*bkg_sigma, roundhi=5., ratio=.85) "
   ]
  },
  {
   "cell_type": "code",
   "execution_count": 61,
   "metadata": {},
   "outputs": [],
   "source": [
    "sources = daofind(image)"
   ]
  },
  {
   "cell_type": "code",
   "execution_count": 62,
   "metadata": {},
   "outputs": [],
   "source": [
    "for col in sources.colnames:\n",
    "    sources[col].info.format = '%.8g'  # for consistent table output"
   ]
  },
  {
   "cell_type": "code",
   "execution_count": 63,
   "metadata": {},
   "outputs": [
    {
     "data": {
      "text/html": [
       "<i>Table length=13</i>\n",
       "<table id=\"table140627319681488\" class=\"table-striped table-bordered table-condensed\">\n",
       "<thead><tr><th>id</th><th>xcentroid</th><th>ycentroid</th><th>sharpness</th><th>roundness1</th><th>roundness2</th><th>npix</th><th>sky</th><th>peak</th><th>flux</th><th>mag</th></tr></thead>\n",
       "<thead><tr><th>int64</th><th>float64</th><th>float64</th><th>float64</th><th>float64</th><th>float64</th><th>int64</th><th>float64</th><th>float64</th><th>float64</th><th>float64</th></tr></thead>\n",
       "<tr><td>1</td><td>14.667946</td><td>9.4432829</td><td>0.4623483</td><td>0.32338175</td><td>0.20408644</td><td>35</td><td>0</td><td>1100.1794</td><td>98.362435</td><td>-4.9820732</td></tr>\n",
       "<tr><td>2</td><td>6.826302</td><td>11.369304</td><td>0.45855353</td><td>0.99730453</td><td>0.44457133</td><td>35</td><td>0</td><td>19.480103</td><td>2.0186783</td><td>-0.76266779</td></tr>\n",
       "<tr><td>3</td><td>32.256193</td><td>15.364518</td><td>0.83330881</td><td>0.13191768</td><td>0.23098859</td><td>35</td><td>0</td><td>28.397652</td><td>1.7774767</td><td>-0.62450977</td></tr>\n",
       "<tr><td>4</td><td>29.483259</td><td>25.127217</td><td>0.95796385</td><td>0.11589172</td><td>-0.18295883</td><td>35</td><td>0</td><td>345.69998</td><td>17.529917</td><td>-3.1094496</td></tr>\n",
       "<tr><td>5</td><td>36.471663</td><td>24.526011</td><td>0.46056679</td><td>0.34548785</td><td>0.10185555</td><td>35</td><td>0</td><td>419.98822</td><td>37.52669</td><td>-3.9358506</td></tr>\n",
       "<tr><td>6</td><td>14.188342</td><td>34.875456</td><td>0.91011008</td><td>0.30254166</td><td>0.69550828</td><td>35</td><td>0</td><td>41.700958</td><td>2.2746153</td><td>-0.89226991</td></tr>\n",
       "<tr><td>7</td><td>40.400214</td><td>34.693744</td><td>0.95777024</td><td>-0.1327662</td><td>0.060085656</td><td>35</td><td>0</td><td>782.93842</td><td>39.129749</td><td>-3.9812677</td></tr>\n",
       "<tr><td>8</td><td>45.83445</td><td>37.795057</td><td>0.96472736</td><td>0.11166146</td><td>-0.020988261</td><td>35</td><td>0</td><td>1186.2819</td><td>58.301759</td><td>-4.4142041</td></tr>\n",
       "<tr><td>9</td><td>9.2731125</td><td>42.507552</td><td>0.86934885</td><td>0.059134145</td><td>0.21965289</td><td>35</td><td>0</td><td>4287.0513</td><td>233.09471</td><td>-5.918831</td></tr>\n",
       "<tr><td>10</td><td>47.967324</td><td>43.932921</td><td>0.4865324</td><td>0.64531468</td><td>1.155773</td><td>35</td><td>0</td><td>33.97403</td><td>1.9081885</td><td>-0.7015532</td></tr>\n",
       "<tr><td>11</td><td>33.432908</td><td>44.355473</td><td>0.4733595</td><td>0.24516762</td><td>0.36127538</td><td>35</td><td>0</td><td>22023.674</td><td>1850.2477</td><td>-8.1680747</td></tr>\n",
       "<tr><td>12</td><td>17.058223</td><td>46.402201</td><td>0.7212736</td><td>0.2118604</td><td>0.28836385</td><td>35</td><td>0</td><td>770.04022</td><td>48.962996</td><td>-4.22467</td></tr>\n",
       "<tr><td>13</td><td>48.139703</td><td>48.015171</td><td>0.48501538</td><td>-0.52547366</td><td>-0.29076492</td><td>35</td><td>0</td><td>77.636696</td><td>5.9756688</td><td>-1.9409663</td></tr>\n",
       "</table>"
      ],
      "text/plain": [
       "<Table length=13>\n",
       "  id  xcentroid ycentroid sharpness  ...   sky      peak      flux       mag    \n",
       "int64  float64   float64   float64   ... float64  float64   float64    float64  \n",
       "----- --------- --------- ---------- ... ------- --------- --------- -----------\n",
       "    1 14.667946 9.4432829  0.4623483 ...       0 1100.1794 98.362435  -4.9820732\n",
       "    2  6.826302 11.369304 0.45855353 ...       0 19.480103 2.0186783 -0.76266779\n",
       "    3 32.256193 15.364518 0.83330881 ...       0 28.397652 1.7774767 -0.62450977\n",
       "    4 29.483259 25.127217 0.95796385 ...       0 345.69998 17.529917  -3.1094496\n",
       "    5 36.471663 24.526011 0.46056679 ...       0 419.98822  37.52669  -3.9358506\n",
       "    6 14.188342 34.875456 0.91011008 ...       0 41.700958 2.2746153 -0.89226991\n",
       "    7 40.400214 34.693744 0.95777024 ...       0 782.93842 39.129749  -3.9812677\n",
       "    8  45.83445 37.795057 0.96472736 ...       0 1186.2819 58.301759  -4.4142041\n",
       "    9 9.2731125 42.507552 0.86934885 ...       0 4287.0513 233.09471   -5.918831\n",
       "   10 47.967324 43.932921  0.4865324 ...       0  33.97403 1.9081885  -0.7015532\n",
       "   11 33.432908 44.355473  0.4733595 ...       0 22023.674 1850.2477  -8.1680747\n",
       "   12 17.058223 46.402201  0.7212736 ...       0 770.04022 48.962996    -4.22467\n",
       "   13 48.139703 48.015171 0.48501538 ...       0 77.636696 5.9756688  -1.9409663"
      ]
     },
     "execution_count": 63,
     "metadata": {},
     "output_type": "execute_result"
    }
   ],
   "source": [
    "sources"
   ]
  },
  {
   "cell_type": "code",
   "execution_count": 64,
   "metadata": {},
   "outputs": [],
   "source": [
    "from photutils import aperture_photometry, CircularAperture\n",
    "\n",
    "positions = (sources['xcentroid'], sources['ycentroid'])    \n",
    "apertures = CircularAperture(positions, r=4.)    \n",
    "phot_table = aperture_photometry(image, apertures)    \n",
    "# for col in phot_table.colnames:\n",
    "#     phot_table[col].info.format = '%.8g'  # for consistent table output\n",
    "# phot_table  \n",
    "\n",
    "plt.figure(figsize=(6,6))\n",
    "plt.imshow(image, cmap='gray_r', origin='lower')\n",
    "apertures.plot(color='blue', lw=1.5, alpha=0.5)"
   ]
  },
  {
   "cell_type": "code",
   "execution_count": null,
   "metadata": {},
   "outputs": [],
   "source": []
  },
  {
   "cell_type": "code",
   "execution_count": null,
   "metadata": {},
   "outputs": [],
   "source": []
  }
 ],
 "metadata": {
  "kernelspec": {
   "display_name": "Python 3",
   "language": "python",
   "name": "python3"
  },
  "language_info": {
   "codemirror_mode": {
    "name": "ipython",
    "version": 3
   },
   "file_extension": ".py",
   "mimetype": "text/x-python",
   "name": "python",
   "nbconvert_exporter": "python",
   "pygments_lexer": "ipython3",
   "version": "3.5.2"
  }
 },
 "nbformat": 4,
 "nbformat_minor": 2
}
