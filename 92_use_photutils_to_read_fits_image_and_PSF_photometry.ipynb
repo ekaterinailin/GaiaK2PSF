{
 "cells": [
  {
   "cell_type": "code",
   "execution_count": 1,
   "metadata": {},
   "outputs": [],
   "source": [
    "from astropy.io import fits\n",
    "import numpy as np\n",
    "import matplotlib.pyplot as plt"
   ]
  },
  {
   "cell_type": "code",
   "execution_count": 2,
   "metadata": {},
   "outputs": [],
   "source": [
    "hdu = fits.open('ktwo200008664-c05_0256.fits')\n",
    "hdu = fits.open('ktwo200062544-c07_0256.fits')\n",
    "#hdu = fits.open('ktwo200062534-c07_0256.fits')"
   ]
  },
  {
   "cell_type": "code",
   "execution_count": 3,
   "metadata": {},
   "outputs": [
    {
     "data": {
      "text/plain": [
       "(1, 51, 51)"
      ]
     },
     "execution_count": 3,
     "metadata": {},
     "output_type": "execute_result"
    }
   ],
   "source": [
    "image = hdu[1].data['FLUX']\n",
    "image.shape"
   ]
  },
  {
   "cell_type": "code",
   "execution_count": 4,
   "metadata": {},
   "outputs": [],
   "source": [
    "image = image.reshape(image.shape[1:])\n",
    "sigma_psf=0.5"
   ]
  },
  {
   "cell_type": "code",
   "execution_count": 5,
   "metadata": {},
   "outputs": [
    {
     "data": {
      "text/plain": [
       "(39.186134, 196908.47, 6767.3496)"
      ]
     },
     "execution_count": 5,
     "metadata": {},
     "output_type": "execute_result"
    }
   ],
   "source": [
    "np.median(image), np.max(image), np.std(image)"
   ]
  },
  {
   "cell_type": "code",
   "execution_count": 6,
   "metadata": {
    "scrolled": true
   },
   "outputs": [
    {
     "data": {
      "text/plain": [
       "<matplotlib.image.AxesImage at 0x7f14f47977b8>"
      ]
     },
     "execution_count": 6,
     "metadata": {},
     "output_type": "execute_result"
    },
    {
     "data": {
      "image/png": "[encoded data removed]",
      "text/plain": [
       "<Figure size 432x432 with 1 Axes>"
      ]
     },
     "metadata": {},
     "output_type": "display_data"
    }
   ],
   "source": [
    "plt.figure(figsize=(6,6))\n",
    "plt.imshow(image)"
   ]
  },
  {
   "cell_type": "code",
   "execution_count": 812,
   "metadata": {},
   "outputs": [],
   "source": [
    "from astropy.table import Table\n",
    "from photutils.datasets import (make_random_gaussians_table,\n",
    "                                make_noise_image,\n",
    "                                make_gaussian_sources_image)\n",
    "sigma_psf = 1.\n",
    "sources = Table()\n",
    "sources['flux'] = [43000, 30000, 15000, 13000]\n",
    "sources['x_mean'] = [12, 17, 12, 17]\n",
    "sources['y_mean'] = [15, 15, 20, 20]\n",
    "sources['x_stddev'] = sigma_psf*np.ones(4)\n",
    "sources['y_stddev'] = sources['x_stddev']\n",
    "sources['theta'] = [0, 0, 0, 0]\n",
    "sources['id'] = [1, 2, 3, 4]\n",
    "tshape = (32, 32)\n",
    "image = (make_gaussian_sources_image(tshape, sources) +\n",
    "         make_noise_image(tshape, type='poisson', mean=4.,\n",
    "                          random_state=1) +\n",
    "         make_noise_image(tshape, type='gaussian', mean=0.,\n",
    "                          stddev=166, random_state=1))"
   ]
  },
  {
   "cell_type": "markdown",
   "metadata": {},
   "source": [
    "## Go-go PSF photometry!"
   ]
  },
  {
   "cell_type": "code",
   "execution_count": 818,
   "metadata": {},
   "outputs": [],
   "source": [
    "from photutils.detection import IRAFStarFinder\n",
    "from photutils.psf import IntegratedGaussianPRF, DAOGroup\n",
    "from photutils.background import MMMBackground, MADStdBackgroundRMS\n",
    "from astropy.modeling.fitting import LevMarLSQFitter, LinearLSQFitter\n",
    "from astropy.stats import gaussian_sigma_to_fwhm"
   ]
  },
  {
   "cell_type": "markdown",
   "metadata": {},
   "source": [
    "[IRAFStarFinder](https://photutils.readthedocs.io/en/stable/api/photutils.detection.IRAFStarFinder.html#photutils.detection.IRAFStarFinder)"
   ]
  },
  {
   "cell_type": "code",
   "execution_count": 819,
   "metadata": {},
   "outputs": [],
   "source": [
    "bkgrms = MADStdBackgroundRMS()\n",
    "std = bkgrms(image)\n",
    "iraffind = IRAFStarFinder(threshold=5*std,\n",
    "                          fwhm=2*sigma_psf*gaussian_sigma_to_fwhm,\n",
    "                          minsep_fwhm=0.01, roundhi=5.0, roundlo=-5.0,\n",
    "                          sharplo=0.0, sharphi=8., brightest=2)\n",
    "#from photutils import DAOStarFinder\n",
    "#daofind = DAOStarFinder(fwhm=5., threshold=3.*bkg_sigma, roundhi=5., ratio=.85) "
   ]
  },
  {
   "cell_type": "code",
   "execution_count": 820,
   "metadata": {},
   "outputs": [
    {
     "data": {
      "text/html": [
       "<i>Table length=2</i>\n",
       "<table id=\"table140500508947568\" class=\"table-striped table-bordered table-condensed\">\n",
       "<thead><tr><th>id</th><th>xcentroid</th><th>ycentroid</th><th>fwhm</th><th>sharpness</th><th>roundness</th><th>pa</th><th>npix</th><th>sky</th><th>peak</th><th>flux</th><th>mag</th></tr></thead>\n",
       "<thead><tr><th>int64</th><th>float64</th><th>float64</th><th>float64</th><th>float64</th><th>float64</th><th>float64</th><th>int64</th><th>float64</th><th>float64</th><th>float64</th><th>float64</th></tr></thead>\n",
       "<tr><td>1</td><td>30.43942569686055</td><td>26.881082880046275</td><td>1.4707520367716103</td><td>0.6245708838240674</td><td>0.09886298264986154</td><td>144.3562595302867</td><td>12</td><td>2940.4479166666665</td><td>197101.390625</td><td>570604.6110839844</td><td>-14.390838192225877</td></tr>\n",
       "<tr><td>2</td><td>49.5104909002944</td><td>46.352460336585914</td><td>1.2920269751530842</td><td>0.5486733382788506</td><td>0.18669230753427357</td><td>124.15064784281864</td><td>8</td><td>1399.9417317708333</td><td>121804.484375</td><td>344660.41943359375</td><td>-13.843478530476895</td></tr>\n",
       "</table>"
      ],
      "text/plain": [
       "<Table length=2>\n",
       "  id      xcentroid     ...        flux                mag        \n",
       "int64      float64      ...      float64             float64      \n",
       "----- ----------------- ... ------------------ -------------------\n",
       "    1 30.43942569686055 ...  570604.6110839844 -14.390838192225877\n",
       "    2  49.5104909002944 ... 344660.41943359375 -13.843478530476895"
      ]
     },
     "execution_count": 820,
     "metadata": {},
     "output_type": "execute_result"
    }
   ],
   "source": [
    "sources = iraffind(image)\n",
    "from photutils import aperture_photometry, CircularAperture\n",
    "\n",
    "positions = (sources['xcentroid'], sources['ycentroid'])    \n",
    "apertures = CircularAperture(positions, r=4.)      \n",
    "plt.figure(figsize=(6,6))\n",
    "plt.imshow(image, cmap='gray_r', origin='lower')\n",
    "apertures.plot(color='blue', lw=1.5, alpha=0.5)"
   ]
  },
  {
   "cell_type": "code",
   "execution_count": 822,
   "metadata": {},
   "outputs": [],
   "source": [
    "daogroup = DAOGroup(2.*sigma_psf*gaussian_sigma_to_fwhm)"
   ]
  },
  {
   "cell_type": "code",
   "execution_count": 823,
   "metadata": {},
   "outputs": [],
   "source": [
    "bkg = MMMBackground()\n",
    "# from astropy.stats import SigmaClip\n",
    "# from photutils import MedianBackground\n",
    "# sigma_clip = SigmaClip(sigma=sigma_psf)\n",
    "# bkg = MedianBackground(sigma_clip)"
   ]
  },
  {
   "cell_type": "code",
   "execution_count": 824,
   "metadata": {},
   "outputs": [],
   "source": [
    "fitter = LevMarLSQFitter()\n",
    "#fitter =  LinearLSQFitter()"
   ]
  },
  {
   "cell_type": "code",
   "execution_count": 825,
   "metadata": {},
   "outputs": [],
   "source": [
    "psf_model = IntegratedGaussianPRF(sigma=sigma_psf)\n"
   ]
  },
  {
   "cell_type": "code",
   "execution_count": 826,
   "metadata": {},
   "outputs": [
    {
     "name": "stderr",
     "output_type": "stream",
     "text": [
      "WARNING: The fit may be unsuccessful; check fit_info['message'] for more information. [astropy.modeling.fitting]\n"
     ]
    }
   ],
   "source": [
    "from photutils.psf import IterativelySubtractedPSFPhotometry\n",
    "photometry = IterativelySubtractedPSFPhotometry(finder=iraffind,\n",
    "                                                group_maker=daogroup,\n",
    "                                                bkg_estimator=bkg,\n",
    "                                                psf_model=psf_model,\n",
    "                                                fitter=LevMarLSQFitter(),\n",
    "                                                niters=10, fitshape=5)\n",
    "result_tab = photometry(image=image)\n",
    "residual_image = photometry.get_residual_image()"
   ]
  },
  {
   "cell_type": "code",
   "execution_count": 828,
   "metadata": {},
   "outputs": [
    {
     "data": {
      "text/plain": [
       "(0, 49)"
      ]
     },
     "execution_count": 828,
     "metadata": {},
     "output_type": "execute_result"
    },
    {
     "data": {
      "image/png": "[encoded data removed]",
      "text/plain": [
       "<Figure size 720x360 with 4 Axes>"
      ]
     },
     "metadata": {},
     "output_type": "display_data"
    }
   ],
   "source": [
    "plt.figure(figsize=(10,5))\n",
    "\n",
    "plt.subplot(1, 2, 1,)\n",
    "\n",
    "plt.imshow(image, cmap='viridis', aspect=1, interpolation='nearest',)\n",
    "plt.ylim(0,49)\n",
    "plt.title('Simulated data')\n",
    "plt.colorbar(orientation='horizontal', fraction=0.046, pad=0.04)\n",
    "plt.subplot(1 ,2, 2)\n",
    "plt.imshow(image-residual_image, cmap='viridis', aspect=1,\n",
    "           interpolation='nearest', origin='lower')\n",
    "plt.title('Residual Image')\n",
    "plt.colorbar(orientation='horizontal', fraction=0.046, pad=0.04)\n",
    "plt.ylim(0,49)\n"
   ]
  },
  {
   "cell_type": "code",
   "execution_count": 783,
   "metadata": {},
   "outputs": [
    {
     "data": {
      "image/png": "[encoded data removed]",
      "text/plain": [
       "<Figure size 432x288 with 1 Axes>"
      ]
     },
     "metadata": {},
     "output_type": "display_data"
    }
   ],
   "source": [
    "for i in range(42,48):\n",
    "    plt.plot(residual_image[i,:])"
   ]
  },
  {
   "cell_type": "code",
   "execution_count": 496,
   "metadata": {},
   "outputs": [
    {
     "data": {
      "image/png": "[encoded data removed]",
      "text/plain": [
       "<Figure size 432x288 with 1 Axes>"
      ]
     },
     "metadata": {},
     "output_type": "display_data"
    }
   ],
   "source": [
    "for i in range(12,16):\n",
    "    plt.plot(residual_image[i,:])"
   ]
  },
  {
   "cell_type": "code",
   "execution_count": null,
   "metadata": {},
   "outputs": [],
   "source": []
  }
 ],
 "metadata": {
  "kernelspec": {
   "display_name": "Python 3",
   "language": "python",
   "name": "python3"
  },
  "language_info": {
   "codemirror_mode": {
    "name": "ipython",
    "version": 3
   },
   "file_extension": ".py",
   "mimetype": "text/x-python",
   "name": "python",
   "nbconvert_exporter": "python",
   "pygments_lexer": "ipython3",
   "version": "3.5.2"
  }
 },
 "nbformat": 4,
 "nbformat_minor": 2
}
