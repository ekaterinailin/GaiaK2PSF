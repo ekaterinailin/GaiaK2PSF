{
 "cells": [
  {
   "cell_type": "code",
   "execution_count": 1,
   "metadata": {},
   "outputs": [],
   "source": [
    "import numpy as np\n",
    "import matplotlib.pyplot as plt\n",
    "\n",
    "from lightkurve import search_targetpixelfile\n",
    "from lightkurve import KeplerTargetPixelFile\n",
    "\n",
    "from photutils.psf import IntegratedGaussianPRF, DAOGroup\n",
    "from photutils.background import MMMBackground, MADStdBackgroundRMS\n",
    "from photutils.psf import BasicPSFPhotometry\n",
    "\n",
    "from astropy.modeling.fitting import LevMarLSQFitter, LinearLSQFitter\n",
    "from astropy.stats import gaussian_sigma_to_fwhm\n",
    "from astropy.table import Table\n",
    "\n",
    "from photutilspsf.photutilspsf import wrapper_supplement_olivares_with_gaia_coordinates_on_tpf\n"
   ]
  },
  {
   "cell_type": "code",
   "execution_count": 2,
   "metadata": {},
   "outputs": [],
   "source": [
    "from copy import deepcopy\n",
    "import pickle"
   ]
  },
  {
   "cell_type": "code",
   "execution_count": 3,
   "metadata": {},
   "outputs": [],
   "source": [
    "\n",
    "\n",
    "\n"
   ]
  },
  {
   "cell_type": "code",
   "execution_count": 4,
   "metadata": {},
   "outputs": [],
   "source": [
    "#200062524 -- 200062583\n",
    "EPIC = 200062560\n",
    "C = 7\n",
    "index = 256\n",
    "memberspath = 'data/olivares_members_r147.fit'\n",
    "\n",
    "TPF = search_targetpixelfile(EPIC).download()"
   ]
  },
  {
   "cell_type": "code",
   "execution_count": 5,
   "metadata": {},
   "outputs": [],
   "source": [
    "psf_model = pickle.load(open( \"data/epsf29.p\", \"rb\" ))"
   ]
  },
  {
   "cell_type": "code",
   "execution_count": 7,
   "metadata": {},
   "outputs": [],
   "source": [
    "photometry = define_basic_photometry_with_fixed_centroids(sigma_psf=.5, group_psf=1.5, psf_model=psf_model)"
   ]
  },
  {
   "cell_type": "code",
   "execution_count": null,
   "metadata": {},
   "outputs": [],
   "source": [
    "result_tab = get_members_photometry_table(photometry, memberspath, TPF,index)"
   ]
  },
  {
   "cell_type": "code",
   "execution_count": null,
   "metadata": {},
   "outputs": [],
   "source": [
    "residual_image = photometry.get_residual_image()"
   ]
  },
  {
   "cell_type": "code",
   "execution_count": null,
   "metadata": {},
   "outputs": [],
   "source": [
    "from photutilspsf.plots import plot_psf_photometry_results\n",
    "\n",
    "plot_psf_photometry_results(TPF.flux[index,:,:], residual_image)\n",
    "plt.clim(TPF.flux[index,:,:].min(),TPF.flux[index,:,:].max())"
   ]
  },
  {
   "cell_type": "code",
   "execution_count": null,
   "metadata": {},
   "outputs": [],
   "source": []
  }
 ],
 "metadata": {
  "kernelspec": {
   "display_name": "Python 3",
   "language": "python",
   "name": "python3"
  },
  "language_info": {
   "codemirror_mode": {
    "name": "ipython",
    "version": 3
   },
   "file_extension": ".py",
   "mimetype": "text/x-python",
   "name": "python",
   "nbconvert_exporter": "python",
   "pygments_lexer": "ipython3",
   "version": "3.5.2"
  }
 },
 "nbformat": 4,
 "nbformat_minor": 2
}
