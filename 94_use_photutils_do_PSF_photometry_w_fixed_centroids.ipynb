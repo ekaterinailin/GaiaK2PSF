{
 "cells": [
  {
   "cell_type": "code",
   "execution_count": 1,
   "metadata": {},
   "outputs": [],
   "source": [
    "import numpy as np\n",
    "import matplotlib.pyplot as plt\n",
    "\n",
    "from lightkurve import search_targetpixelfile\n",
    "from lightkurve import KeplerTargetPixelFile\n",
    "\n",
    "from photutils.psf import IntegratedGaussianPRF, DAOGroup\n",
    "from photutils.background import MMMBackground, MADStdBackgroundRMS\n",
    "from photutils.psf import BasicPSFPhotometry\n",
    "\n",
    "from astropy.modeling.fitting import LevMarLSQFitter, LinearLSQFitter\n",
    "from astropy.stats import gaussian_sigma_to_fwhm\n",
    "from astropy.table import Table\n",
    "\n",
    "from photutilspsf.photutilspsf import read_fits_table, select_members_on_tpf"
   ]
  },
  {
   "cell_type": "code",
   "execution_count": 2,
   "metadata": {},
   "outputs": [],
   "source": [
    "from copy import deepcopy"
   ]
  },
  {
   "cell_type": "code",
   "execution_count": 19,
   "metadata": {},
   "outputs": [],
   "source": [
    "def define_photometry(sigma_psf=0.5, group_psf=1.5, fitshape=(11,11)):\n",
    "    daogroup = DAOGroup(group_psf *\n",
    "                        sigma_psf * \n",
    "                        gaussian_sigma_to_fwhm)\n",
    "\n",
    "    bkg = MMMBackground()\n",
    "    fitter = LevMarLSQFitter()\n",
    "    psf_model = IntegratedGaussianPRF(sigma=sigma_psf)\n",
    "\n",
    "    psf_model.x_0.fixed = True\n",
    "    psf_model.y_0.fixed = True\n",
    "    \n",
    "    return BasicPSFPhotometry(group_maker=daogroup,\n",
    "                              bkg_estimator=bkg,\n",
    "                              psf_model=psf_model,\n",
    "                              fitter=LevMarLSQFitter(),\n",
    "                              fitshape=fitshape)\n",
    "\n",
    "def get_members_photometry_table(photometry, memberspath, TPF, index):\n",
    "    image = TPF.flux[index,:,:]\n",
    "    members = read_fits_table(memberspath)\n",
    "    rselect = select_members_on_tpf(TPF, members)\n",
    "    pos = Table(names=['x_0', 'y_0'], data=[rselect['xcentroid'],\n",
    "                                            rselect['ycentroid']])\n",
    "    result_table =  photometry(image=image, init_guesses=pos)\n",
    "    del image\n",
    "    return result_table\n",
    "    \n",
    "def get_members_photometry_residual_image(photometry):\n",
    "    return photometry.get_residual_image()"
   ]
  },
  {
   "cell_type": "code",
   "execution_count": 3,
   "metadata": {},
   "outputs": [],
   "source": [
    "EPIC = 200062544\n",
    "C = 7\n",
    "index = 256\n",
    "memberspath = 'data/olivares_members_r147.fit'\n",
    "\n",
    "TPF = search_targetpixelfile(EPIC).download()"
   ]
  },
  {
   "cell_type": "code",
   "execution_count": 20,
   "metadata": {},
   "outputs": [],
   "source": [
    "photometry = define_photometry(sigma_psf=1.5, group_psf=2.5,)\n",
    "\n",
    "result_tab = get_members_photometry_table(photometry, memberspath, TPF,index)\n",
    "\n",
    "residual_image = get_members_photometry_residual_image(photometry)"
   ]
  },
  {
   "cell_type": "code",
   "execution_count": 21,
   "metadata": {},
   "outputs": [
    {
     "data": {
      "text/plain": [
       "(0, 49)"
      ]
     },
     "execution_count": 21,
     "metadata": {},
     "output_type": "execute_result"
    },
    {
     "data": {
      "image/png": "[encoded data removed]",
      "text/plain": [
       "<Figure size 720x360 with 4 Axes>"
      ]
     },
     "metadata": {},
     "output_type": "display_data"
    }
   ],
   "source": [
    "image = TPF.flux[index,:,:]\n",
    "\n",
    "plt.figure(figsize=(10,5))\n",
    "\n",
    "plt.subplot(1, 2, 1,)\n",
    "\n",
    "plt.imshow(image, cmap='viridis', aspect=1, interpolation='nearest',)\n",
    "plt.ylim(0,49)\n",
    "plt.title('Original Data')\n",
    "plt.colorbar(orientation='horizontal', fraction=0.046, pad=0.04)\n",
    "plt.subplot(1 ,2, 2)\n",
    "plt.scatter(result_tab['x_fit'],result_tab['y_fit'],c='r', marker='x')\n",
    "plt.imshow(residual_image, cmap='viridis', aspect=1,\n",
    "           interpolation='nearest', origin='lower')\n",
    "plt.title('Residual Image')\n",
    "plt.colorbar(orientation='horizontal', fraction=0.046, pad=0.04)\n",
    "plt.ylim(0,49)\n"
   ]
  },
  {
   "cell_type": "code",
   "execution_count": null,
   "metadata": {},
   "outputs": [],
   "source": []
  }
 ],
 "metadata": {
  "kernelspec": {
   "display_name": "Python 3",
   "language": "python",
   "name": "python3"
  },
  "language_info": {
   "codemirror_mode": {
    "name": "ipython",
    "version": 3
   },
   "file_extension": ".py",
   "mimetype": "text/x-python",
   "name": "python",
   "nbconvert_exporter": "python",
   "pygments_lexer": "ipython3",
   "version": "3.5.2"
  }
 },
 "nbformat": 4,
 "nbformat_minor": 2
}
