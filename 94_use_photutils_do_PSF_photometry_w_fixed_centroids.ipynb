{
 "cells": [
  {
   "cell_type": "code",
   "execution_count": 1,
   "metadata": {},
   "outputs": [],
   "source": [
    "import numpy as np\n",
    "import matplotlib.pyplot as plt\n",
    "\n",
    "from lightkurve import search_targetpixelfile\n",
    "from lightkurve import KeplerTargetPixelFile\n",
    "\n",
    "from photutils.psf import IntegratedGaussianPRF, DAOGroup\n",
    "from photutils.background import MMMBackground, MADStdBackgroundRMS\n",
    "from photutils.psf import BasicPSFPhotometry\n",
    "\n",
    "from astropy.modeling.fitting import LevMarLSQFitter, LinearLSQFitter\n",
    "from astropy.stats import gaussian_sigma_to_fwhm\n",
    "from astropy.table import Table\n",
    "\n",
    "from photutilspsf.photutilspsf import wrapper_supplement_olivares_with_gaia_coordinates_on_tpf\n"
   ]
  },
  {
   "cell_type": "code",
   "execution_count": 2,
   "metadata": {},
   "outputs": [],
   "source": [
    "from copy import deepcopy\n",
    "import pickle"
   ]
  },
  {
   "cell_type": "code",
   "execution_count": 37,
   "metadata": {},
   "outputs": [],
   "source": [
    "def define_photometry(sigma_psf=0.5, group_psf=1.5, fitshape=(11,11), psf_model=None):\n",
    "    daogroup = DAOGroup(group_psf *\n",
    "                        sigma_psf * \n",
    "                        gaussian_sigma_to_fwhm)\n",
    "\n",
    "    bkg = MMMBackground()\n",
    "    fitter = LevMarLSQFitter()\n",
    "    if psf_model is None:\n",
    "        psf_model = IntegratedGaussianPRF(sigma=sigma_psf)\n",
    "\n",
    "    psf_model.x_0.fixed = True\n",
    "    psf_model.y_0.fixed = True\n",
    "    \n",
    "    return BasicPSFPhotometry(group_maker=daogroup,\n",
    "                              bkg_estimator=bkg,\n",
    "                              psf_model=psf_model,\n",
    "                              fitter=LevMarLSQFitter(),\n",
    "                              fitshape=fitshape,\n",
    "                              aperture_radius=5)\n",
    "\n",
    "def get_members_photometry_table(photometry, memberspath, TPF, index):\n",
    "    image = TPF.flux[index,:,:]\n",
    "    rselect = wrapper_supplement_olivares_with_gaia_coordinates_on_tpf(TPF,\n",
    "                                                                       memberspath)\n",
    "    pos = Table(names=['x_0', 'y_0'], data=[rselect['xcentroid'],\n",
    "                                            rselect['ycentroid']])\n",
    "    result_table =  photometry(image=image, init_guesses=pos)\n",
    "    del image\n",
    "    return result_table\n",
    "    \n",
    "def get_members_photometry_residual_image(photometry):\n",
    "    return photometry.get_residual_image()"
   ]
  },
  {
   "cell_type": "code",
   "execution_count": 18,
   "metadata": {},
   "outputs": [],
   "source": [
    "#200062524 -- 200062583\n",
    "EPIC = 200062560\n",
    "C = 7\n",
    "index = 256\n",
    "memberspath = 'data/olivares_members_r147.fit'\n",
    "\n",
    "TPF = search_targetpixelfile(EPIC).download()"
   ]
  },
  {
   "cell_type": "code",
   "execution_count": 43,
   "metadata": {},
   "outputs": [],
   "source": [
    "psf_model = pickle.load(open( \"data/epsf29.p\", \"rb\" ))"
   ]
  },
  {
   "cell_type": "code",
   "execution_count": 45,
   "metadata": {},
   "outputs": [
    {
     "name": "stderr",
     "output_type": "stream",
     "text": [
      "WARNING: W35: None:5:0: W35: 'value' attribute required for INFO elements [astropy.io.votable.tree]\n",
      "WARNING: W35: None:6:0: W35: 'value' attribute required for INFO elements [astropy.io.votable.tree]\n",
      "WARNING: W35: None:7:0: W35: 'value' attribute required for INFO elements [astropy.io.votable.tree]\n",
      "WARNING: W35: None:8:0: W35: 'value' attribute required for INFO elements [astropy.io.votable.tree]\n",
      "WARNING: W35: None:10:0: W35: 'value' attribute required for INFO elements [astropy.io.votable.tree]\n",
      "WARNING: W27: None:11:0: W27: COOSYS deprecated in VOTable 1.2 [astropy.io.votable.tree]\n",
      "WARNING: W06: None:48:0: W06: Invalid UCD 'arith.ratio': Secondary word 'arith.ratio' is not valid as a primary word [astropy.io.votable.tree]\n",
      "WARNING: W50: None:51:0: W50: Invalid unit string 'mas.yr**-1' [astropy.io.votable.tree]\n",
      "WARNING: W50: None:54:0: W50: Invalid unit string 'mas.yr**-1' [astropy.io.votable.tree]\n",
      "WARNING: W50: None:57:0: W50: Invalid unit string 'mas.yr**-1' [astropy.io.votable.tree]\n",
      "WARNING: W50: None:60:0: W50: Invalid unit string 'mas.yr**-1' [astropy.io.votable.tree]\n",
      "WARNING: W50: None:123:0: W50: Invalid unit string 'mas**-2' [astropy.io.votable.tree]\n",
      "WARNING: W50: None:126:0: W50: Invalid unit string 'um**-1' [astropy.io.votable.tree]\n",
      "WARNING: W06: None:129:0: W06: Invalid UCD 'em.wavenumber;stat.error': Primary word 'stat.error' is not valid as a secondary word [astropy.io.votable.tree]\n",
      "WARNING: W50: None:129:0: W50: Invalid unit string 'um**-1' [astropy.io.votable.tree]\n",
      "WARNING: W06: None:141:0: W06: Invalid UCD 'pos.errorEllipse;stat.max': Secondary word 'pos.errorEllipse' is not valid as a primary word [astropy.io.votable.tree]\n",
      "WARNING: W50: None:156:0: W50: Invalid unit string ''electron'.s**-1' [astropy.io.votable.tree]\n",
      "WARNING: W50: None:159:0: W50: Invalid unit string ''electron'.s**-1' [astropy.io.votable.tree]\n",
      "WARNING: W06: None:162:0: W06: Invalid UCD 'arith.ratio': Secondary word 'arith.ratio' is not valid as a primary word [astropy.io.votable.tree]\n",
      "WARNING: W50: None:171:0: W50: Invalid unit string ''electron'.s**-1' (suppressing further warnings of this type...) [astropy.io.votable.tree]\n",
      "WARNING: W06: None:177:0: W06: Invalid UCD 'arith.ratio': Secondary word 'arith.ratio' is not valid as a primary word [astropy.io.votable.tree]\n",
      "WARNING: W06: None:192:0: W06: Invalid UCD 'arith.ratio': Secondary word 'arith.ratio' is not valid as a primary word [astropy.io.votable.tree]\n",
      "WARNING: W06: None:204:0: W06: Invalid UCD 'phot.color': Unknown word 'phot.color' [astropy.io.votable.tree]\n",
      "WARNING: W06: None:207:0: W06: Invalid UCD 'phot.color': Unknown word 'phot.color' [astropy.io.votable.tree]\n",
      "WARNING: W06: None:210:0: W06: Invalid UCD 'phot.color': Unknown word 'phot.color' [astropy.io.votable.tree]\n",
      "WARNING: W06: None:282:0: W06: Invalid UCD 'phys.size.radius;stat.error': Primary word 'stat.error' is not valid as a secondary word (suppressing further warnings of this type...) [astropy.io.votable.tree]\n"
     ]
    },
    {
     "name": "stdout",
     "output_type": "stream",
     "text": [
      "Query finished.\n"
     ]
    },
    {
     "name": "stderr",
     "output_type": "stream",
     "text": [
      "/home/ekaterina/Documents/Science/Flares_in_Clusters_II/psf_photometry/photutilspsf/photutilspsf.py:14: TableReplaceWarning: converted column 'priam_flags' from integer to float\n",
      "  others = get_gaia_astrometry(center, radius)\n",
      "/home/ekaterina/Documents/Science/Flares_in_Clusters_II/psf_photometry/photutilspsf/photutilspsf.py:14: TableReplaceWarning: converted column 'flame_flags' from integer to float\n",
      "  others = get_gaia_astrometry(center, radius)\n"
     ]
    }
   ],
   "source": [
    "photometry = define_photometry(sigma_psf=.5, group_psf=1.5, psf_model=psf_model)\n",
    "\n",
    "result_tab = get_members_photometry_table(photometry, memberspath, TPF,index)\n",
    "\n",
    "residual_image = get_members_photometry_residual_image(photometry)"
   ]
  },
  {
   "cell_type": "code",
   "execution_count": 46,
   "metadata": {},
   "outputs": [
    {
     "data": {
      "text/plain": [
       "(0, 49)"
      ]
     },
     "execution_count": 46,
     "metadata": {},
     "output_type": "execute_result"
    },
    {
     "data": {
      "image/png": "[encoded data removed]",
      "text/plain": [
       "<Figure size 1080x360 with 6 Axes>"
      ]
     },
     "metadata": {},
     "output_type": "display_data"
    }
   ],
   "source": [
    "image = TPF.flux[index,:,:]\n",
    "\n",
    "plt.figure(figsize=(15,5))\n",
    "\n",
    "plt.subplot(1, 3, 1,)\n",
    "\n",
    "plt.imshow(image, cmap='viridis', aspect=1, interpolation='nearest',)\n",
    "plt.ylim(0,49)\n",
    "plt.title('Original Data')\n",
    "plt.colorbar(orientation='horizontal', fraction=0.046, pad=0.04)\n",
    "plt.subplot(1 ,3, 2)\n",
    "#plt.scatter(result_tab['x_fit'],result_tab['y_fit'],c='r', marker='x')\n",
    "plt.imshow(image-residual_image, cmap='viridis', aspect=1,\n",
    "           interpolation='nearest', origin='lower')\n",
    "plt.ylim(0,49)\n",
    "plt.title('Model Image')\n",
    "plt.colorbar(orientation='horizontal', fraction=0.046, pad=0.04)\n",
    "plt.subplot(1 ,3, 3)\n",
    "plt.imshow(residual_image, cmap='viridis', aspect=1,\n",
    "           interpolation='nearest', origin='lower')\n",
    "plt.title('Residual Image')\n",
    "plt.colorbar(orientation='horizontal', fraction=0.046, pad=0.04)\n",
    "plt.ylim(0,49)\n"
   ]
  },
  {
   "cell_type": "code",
   "execution_count": 32,
   "metadata": {},
   "outputs": [
    {
     "data": {
      "text/plain": [
       "array(['x_0', 'y_0', 'flux_0', 'id', 'group_id', 'x_fit', 'flux_fit',\n",
       "       'y_fit', 'flux_unc'], dtype=object)"
      ]
     },
     "execution_count": 32,
     "metadata": {},
     "output_type": "execute_result"
    }
   ],
   "source": [
    "df = result_tab.to_pandas()\n",
    "df.columns.values"
   ]
  },
  {
   "cell_type": "code",
   "execution_count": 12,
   "metadata": {},
   "outputs": [
    {
     "data": {
      "text/plain": [
       "<matplotlib.axes._subplots.AxesSubplot at 0x7fb43a790278>"
      ]
     },
     "execution_count": 12,
     "metadata": {},
     "output_type": "execute_result"
    },
    {
     "data": {
      "image/png": "[encoded data removed]",
      "text/plain": [
       "<Figure size 432x288 with 1 Axes>"
      ]
     },
     "metadata": {},
     "output_type": "display_data"
    }
   ],
   "source": [
    "df.flux_0.hist(bins=30)"
   ]
  },
  {
   "cell_type": "code",
   "execution_count": null,
   "metadata": {},
   "outputs": [],
   "source": []
  }
 ],
 "metadata": {
  "kernelspec": {
   "display_name": "Python 3",
   "language": "python",
   "name": "python3"
  },
  "language_info": {
   "codemirror_mode": {
    "name": "ipython",
    "version": 3
   },
   "file_extension": ".py",
   "mimetype": "text/x-python",
   "name": "python",
   "nbconvert_exporter": "python",
   "pygments_lexer": "ipython3",
   "version": "3.5.2"
  }
 },
 "nbformat": 4,
 "nbformat_minor": 2
}
