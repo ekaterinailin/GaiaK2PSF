{
 "cells": [
  {
   "cell_type": "code",
   "execution_count": 1,
   "metadata": {},
   "outputs": [
    {
     "name": "stdout",
     "output_type": "stream",
     "text": [
      "Created TAP+ (v1.0.1) - Connection:\n",
      "\tHost: gea.esac.esa.int\n",
      "\tUse HTTPS: False\n",
      "\tPort: 80\n",
      "\tSSL Port: 443\n"
     ]
    }
   ],
   "source": [
    "from astroquery.gaia import Gaia"
   ]
  },
  {
   "cell_type": "code",
   "execution_count": 2,
   "metadata": {},
   "outputs": [],
   "source": [
    "import astropy.units as u\n",
    "from astropy.coordinates import SkyCoord\n",
    "from lightkurve import search_targetpixelfile\n",
    "import numpy as np\n",
    "import pandas as pd\n",
    "from photutilspsf.photutilspsf import read_fits_table"
   ]
  },
  {
   "cell_type": "code",
   "execution_count": 3,
   "metadata": {},
   "outputs": [],
   "source": [
    "EPIC = 200062544\n",
    "C = 7\n",
    "index = 256\n",
    "\n",
    "tpf = search_targetpixelfile(EPIC).download()"
   ]
  },
  {
   "cell_type": "code",
   "execution_count": 4,
   "metadata": {},
   "outputs": [
    {
     "data": {
      "text/plain": [
       "array([25., 25.])"
      ]
     },
     "execution_count": 4,
     "metadata": {},
     "output_type": "execute_result"
    }
   ],
   "source": [
    "def find_center_and_radius(tpf):\n",
    "    center = (np.array(tpf.flux[0,:,:].shape)-1)/2\n",
    "    lo, la = tpf.wcs.wcs_pix2world(*center, 0) #0 indicates we start pixel counting at 0\n",
    "    lom, lam = tpf.wcs.wcs_pix2world(0, 0, 0)\n",
    "    radius = np.sqrt((lom - lo)**2 + (lam - la)**2)\n",
    "    return (lo, la), radius"
   ]
  },
  {
   "cell_type": "code",
   "execution_count": 18,
   "metadata": {},
   "outputs": [],
   "source": [
    "def get_gaia_astrometry(center, radius):\n",
    "    coord = SkyCoord(ra=center[0], dec=center[1], unit=(u.degree, u.degree), frame='icrs')\n",
    "    width = u.Quantity(0.1, u.deg)\n",
    "    height = u.Quantity(0.1, u.deg)\n",
    "    r = Gaia.query_object_async(coordinate=coord, radius=radius*u.degree)\n",
    "    return r.to_pandas()"
   ]
  },
  {
   "cell_type": "code",
   "execution_count": 19,
   "metadata": {},
   "outputs": [],
   "source": [
    "members = read_fits_table('data/olivares_members_r147.fit')"
   ]
  },
  {
   "cell_type": "code",
   "execution_count": 9,
   "metadata": {},
   "outputs": [
    {
     "name": "stderr",
     "output_type": "stream",
     "text": [
      "/usr/local/lib/python3.5/dist-packages/IPython/core/interactiveshell.py:2910: TableReplaceWarning: converted column 'priam_flags' from integer to float\n",
      "  exec(code_obj, self.user_global_ns, self.user_ns)\n",
      "/usr/local/lib/python3.5/dist-packages/IPython/core/interactiveshell.py:2910: TableReplaceWarning: converted column 'flame_flags' from integer to float\n",
      "  exec(code_obj, self.user_global_ns, self.user_ns)\n"
     ]
    }
   ],
   "source": [
    "center, radius = find_center_and_radius(tpf)\n",
    "others = get_gaia_astrometry(center, radius)"
   ]
  },
  {
   "cell_type": "code",
   "execution_count": 12,
   "metadata": {},
   "outputs": [],
   "source": [
    "others = others[['source_id','ra','dec']]\n",
    "others = others.rename(index=str, columns={'source_id':'gaia_id'})\n",
    "others['EPIC'] = 0\n",
    "others['pmem'] = 0.\n",
    "ontpf = pd.concat((members,others),ignore_index=True, sort=True)\n",
    "assert ontpf.shape[0] == members.shape[0] + others.shape[0]"
   ]
  },
  {
   "cell_type": "code",
   "execution_count": null,
   "metadata": {},
   "outputs": [],
   "source": []
  }
 ],
 "metadata": {
  "kernelspec": {
   "display_name": "Python 3",
   "language": "python",
   "name": "python3"
  },
  "language_info": {
   "codemirror_mode": {
    "name": "ipython",
    "version": 3
   },
   "file_extension": ".py",
   "mimetype": "text/x-python",
   "name": "python",
   "nbconvert_exporter": "python",
   "pygments_lexer": "ipython3",
   "version": "3.5.2"
  }
 },
 "nbformat": 4,
 "nbformat_minor": 2
}
